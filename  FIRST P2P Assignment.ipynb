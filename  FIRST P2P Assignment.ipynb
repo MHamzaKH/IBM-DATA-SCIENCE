{
 "cells": [
  {
   "cell_type": "markdown",
   "id": "df8b7713",
   "metadata": {},
   "source": [
    "# Data Science Tools and Ecosystem"
   ]
  },
  {
   "cell_type": "markdown",
   "id": "6e2a4491",
   "metadata": {},
   "source": [
    "In this notebook, Ecosystem tools and ecosystem are summarized."
   ]
  },
  {
   "cell_type": "markdown",
   "id": "db75d7cb",
   "metadata": {},
   "source": [
    "__Objectives__\n",
    "\n",
    "List of popular Data Science Languages\n",
    "\n",
    "List of Data Science Tools\n",
    "\n",
    "Example Artithmetic Calculations Python"
   ]
  },
  {
   "cell_type": "markdown",
   "id": "c96816f5",
   "metadata": {},
   "source": [
    "Some of the popular languages that Data Scientists use are: \n",
    "\n",
    "1) Python\n",
    "2) R Language\n",
    "3) C++"
   ]
  },
  {
   "cell_type": "markdown",
   "id": "3aa95f01",
   "metadata": {},
   "source": [
    "Some of the commonly used libraries used by Data Scientists include:\n",
    "\n",
    "1) NumPY\n",
    "2) Pandas\n",
    "3) TensorFlow"
   ]
  },
  {
   "cell_type": "markdown",
   "id": "1da960c4",
   "metadata": {},
   "source": [
    "| Data Scient Tools|\n",
    "|------------------|\n",
    "|Apache Spark|\n",
    "|Julia|\n",
    "|Jupyter Notebook|\n",
    "|Scikit-Learn|"
   ]
  },
  {
   "cell_type": "markdown",
   "id": "d4b802db",
   "metadata": {},
   "source": [
    "Below are a few examples of evaluating arithmetic expressions in Python"
   ]
  },
  {
   "cell_type": "code",
   "execution_count": 2,
   "id": "79fa277a",
   "metadata": {},
   "outputs": [
    {
     "name": "stdout",
     "output_type": "stream",
     "text": [
      "17\n"
     ]
    }
   ],
   "source": [
    "\n",
    "#This a simple arithmetic expression to mutiply then add integers\n",
    "\n",
    "x = 3\n",
    "y = 4\n",
    "z = 5\n",
    "q = (x*y)+z\n",
    "print (q)"
   ]
  },
  {
   "cell_type": "code",
   "execution_count": 6,
   "id": "4924f335",
   "metadata": {},
   "outputs": [
    {
     "name": "stdout",
     "output_type": "stream",
     "text": [
      "3.3333333333333335\n"
     ]
    }
   ],
   "source": [
    "minutes = 200\n",
    "hours = minutes / 60\n",
    "print (hours)"
   ]
  },
  {
   "cell_type": "markdown",
   "id": "dc4159d8",
   "metadata": {},
   "source": [
    "## AUTHOR \n",
    "\n",
    "Muhammad Hamza Khan"
   ]
  }
 ],
 "metadata": {
  "kernelspec": {
   "display_name": "Python 3 (ipykernel)",
   "language": "python",
   "name": "python3"
  },
  "language_info": {
   "codemirror_mode": {
    "name": "ipython",
    "version": 3
   },
   "file_extension": ".py",
   "mimetype": "text/x-python",
   "name": "python",
   "nbconvert_exporter": "python",
   "pygments_lexer": "ipython3",
   "version": "3.11.5"
  }
 },
 "nbformat": 4,
 "nbformat_minor": 5
}
